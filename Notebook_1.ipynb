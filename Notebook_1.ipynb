{
 "cells": [
  {
   "cell_type": "markdown",
   "metadata": {},
   "source": [
    "# Pytorch Workflow\n",
    "\n",
    "Let's explore an example PyTorch end-to-end workflow.\n",
    "\n",
    "Resources:\n",
    "* Ground truth notebook: https://github.com/mrdbourke/pytorch-deep-learning/blob/main/01_pytorch_workflow.ipynb\n",
    "* Book version of notebook: https://www.learnpytorch.io/01_pytorch_workflow/\n",
    "* Ask a question: https://github.com/mrdbourke/pytorch-deep-learning/discussions"
   ]
  },
  {
   "cell_type": "code",
   "execution_count": 1,
   "metadata": {},
   "outputs": [
    {
     "name": "stdout",
     "output_type": "stream",
     "text": [
      "{1: 'data(prepare andload)', 2: 'build model', 3: 'fitting the model to data (training)', 4: 'making predictions and evaluating the model(inference)', 5: 'saving and loading the model', 6: 'putting it all together'}\n"
     ]
    }
   ],
   "source": [
    "what_are_we_covering = {1: \"data(prepare andload)\",\n",
    "                        2: \"build model\",\n",
    "                        3: \"fitting the model to data (training)\",\n",
    "                        4: \"making predictions and evaluating the model(inference)\",\n",
    "                        5: \"saving and loading the model\",\n",
    "                        6: \"putting it all together\"}\n",
    "\n",
    "print(what_are_we_covering)"
   ]
  },
  {
   "cell_type": "code",
   "execution_count": 2,
   "metadata": {},
   "outputs": [
    {
     "data": {
      "text/plain": [
       "'2.5.1'"
      ]
     },
     "execution_count": 2,
     "metadata": {},
     "output_type": "execute_result"
    }
   ],
   "source": [
    "import torch\n",
    "from torch import nn ## nn contains all of pytorch's building blocks for neural networks\n",
    "import matplotlib.pyplot as plt\n",
    "\n",
    "# Check PyTorch Version\n",
    "torch.__version__"
   ]
  },
  {
   "cell_type": "markdown",
   "metadata": {},
   "source": [
    "## 1. Data (Preparing and Loading)\n",
    "\n",
    "Data can be almost anything ..... in machine learning.\n",
    "\n",
    "* Excel sheet\n",
    "* Images of any kind\n",
    "* Video eg. youtube has lots of data\n",
    "* Audio (songs, podcasts)\n",
    "* Text file\n",
    "* DNA\n",
    "\n",
    "### Machine learning is a game of 2 parts:\n",
    "\n",
    "1. Get the data into a numerical representation.\n",
    "2. Build models that learn the pattern in that numericall representation. \n",
    "\n",
    "To showcase this, let's create some *known* data using the linear regression formula.\n",
    "\n",
    "We'll use a linear regression formula to make a straight line with *known* **parameters**."
   ]
  },
  {
   "cell_type": "code",
   "execution_count": 3,
   "metadata": {},
   "outputs": [],
   "source": [
    "# create *known* parameters\n",
    "weight = 0.7\n",
    "bias = 0.3\n",
    "\n",
    "# create\n",
    "start = 0\n",
    "end = 1\n",
    "step = 0.02\n",
    "\n",
    "X = torch.arange(start=start, end=end, step=step).unsqueeze(dim=1)\n",
    "y = weight * X + bias"
   ]
  },
  {
   "cell_type": "code",
   "execution_count": 4,
   "metadata": {},
   "outputs": [
    {
     "data": {
      "text/plain": [
       "(tensor([[0.0000],\n",
       "         [0.0200],\n",
       "         [0.0400],\n",
       "         [0.0600],\n",
       "         [0.0800],\n",
       "         [0.1000],\n",
       "         [0.1200],\n",
       "         [0.1400],\n",
       "         [0.1600],\n",
       "         [0.1800]]),\n",
       " tensor([[0.3000],\n",
       "         [0.3140],\n",
       "         [0.3280],\n",
       "         [0.3420],\n",
       "         [0.3560],\n",
       "         [0.3700],\n",
       "         [0.3840],\n",
       "         [0.3980],\n",
       "         [0.4120],\n",
       "         [0.4260]]))"
      ]
     },
     "execution_count": 4,
     "metadata": {},
     "output_type": "execute_result"
    }
   ],
   "source": [
    "X[:10],y[:10]"
   ]
  },
  {
   "cell_type": "code",
   "execution_count": 5,
   "metadata": {},
   "outputs": [
    {
     "data": {
      "text/plain": [
       "(50, 50)"
      ]
     },
     "execution_count": 5,
     "metadata": {},
     "output_type": "execute_result"
    }
   ],
   "source": [
    "len(X), len(y)"
   ]
  },
  {
   "cell_type": "markdown",
   "metadata": {},
   "source": [
    "## Splitting data in train and test sets (one of the most important concepts in machine learning in general)\n",
    "\n",
    "Lets create training and testing datasets for our model"
   ]
  },
  {
   "cell_type": "code",
   "execution_count": 6,
   "metadata": {},
   "outputs": [
    {
     "name": "stdout",
     "output_type": "stream",
     "text": [
      "40 40\n",
      "10 10\n"
     ]
    }
   ],
   "source": [
    "#create a train-test split\n",
    "\n",
    "train_split = int(0.8 * len(X))\n",
    "X_train, y_train = X[:train_split],y[:train_split]\n",
    "X_test , y_test = X[train_split:],y[train_split:]\n",
    "\n",
    "print(len(X_train),len(y_train))\n",
    "print(len(X_test), len(y_test))"
   ]
  },
  {
   "cell_type": "markdown",
   "metadata": {},
   "source": [
    "How might we better visualize our data?\n",
    "\n",
    "This is where the data explorer' s motto comes in!\n",
    "\n",
    "\"Visualize, visualize, visualize! \""
   ]
  },
  {
   "cell_type": "code",
   "execution_count": 7,
   "metadata": {},
   "outputs": [
    {
     "data": {
      "image/png": "[encoded data removed]",
      "text/plain": [
       "<Figure size 1000x700 with 1 Axes>"
      ]
     },
     "metadata": {},
     "output_type": "display_data"
    }
   ],
   "source": [
    "def plot_predictions(train_data = X_train,\n",
    "                     train_labels = y_train,\n",
    "                     test_data = X_test,\n",
    "                     test_labels = y_test,\n",
    "                     predictions = None):\n",
    "    '''\n",
    "    Plots the training data, test data and any predictions if provided\n",
    "    '''\n",
    "    plt.figure(figsize=(10,7))\n",
    "\n",
    "    # plot training data in blue\n",
    "    plt.scatter(train_data, train_labels, c= 'b', s=4, label = \"Training Data\")\n",
    "\n",
    "    # plot test data in green \n",
    "    plt.scatter(test_data, test_labels, c = \"g\", s=4, label = \"Testing Data\")\n",
    "\n",
    "    # plot predictions in red if provided\n",
    "    if predictions != None:\n",
    "        plt.scatter(test_data, predictions, c = 'r', s=4, label = \"Predictions\")\n",
    "\n",
    "    # show the legend\n",
    "    plt.legend(prop={\"size\" : 14})\n",
    "\n",
    "    # show the plot\n",
    "    plt.show()\n",
    "    return None\n",
    "\n",
    "plot_predictions(train_data=X_train, train_labels=y_train, test_data=X_test, test_labels=y_test)"
   ]
  },
  {
   "cell_type": "markdown",
   "metadata": {},
   "source": [
    "## 2. Building our first PyTorch model\n",
    "\n",
    "Because we're going to be building classes throughout the course, I'd recommend getting familiar with OOP in Python, to do so you can use the following resource from Real Python: https://realpython.com/python3—object-oriented-programming\n",
    "\n",
    "\n",
    "What our model does :\n",
    "* Start with random values (weight & bias)\n",
    "* Look at training data and adjust the random values to better represent (or get closer to) the ideal values (the weight & bias values we used to create the data)\n",
    "\n",
    "\n",
    "How does it do so?\n",
    "Through two main algorithms :\n",
    "1. Gradient descent\n",
    "2. Backpropagation"
   ]
  },
  {
   "cell_type": "code",
   "execution_count": 8,
   "metadata": {},
   "outputs": [],
   "source": [
    "from torch import nn\n",
    "\n",
    "# Create Linear Regression Model Class\n",
    "\n",
    "class linear_regression_model(nn.Module):  # <-- almost everything in PyTorch inherits this class \n",
    "    def __init__(self):\n",
    "        super().__init__()\n",
    "        self.weights = nn.Parameter(torch.randn(1,\n",
    "                                                requires_grad= True,\n",
    "                                                dtype=torch.float32))\n",
    "        self.bias = nn.Parameter(torch.randn(1,\n",
    "                                             requires_grad=True,\n",
    "                                             dtype=torch.float32))\n",
    "        \n",
    "    # forward method to define the computation in the model\n",
    "    def forward(self, X:torch.Tensor) -> torch.Tensor:  # <- X is the input data\n",
    "        return self.weights * X + self.bias  # This is the linear regression formula\n",
    "\n",
    "        "
   ]
  },
  {
   "cell_type": "markdown",
   "metadata": {},
   "source": [
    "### PyTorch model building essentials\n",
    "\n",
    "\n",
    "* torch. nn — contains all of the buildings for computational graphs (a neural network can be considered a computational graph)\n",
    "\n",
    "* torch . nn. Parameter — what parameters should our model try and learn, often a PyTorch layer from torch.nn will set these for us\n",
    "\n",
    "* torch. nn. Module — The base class for all neural network modules, if you subclass it, you should overwrite forward() method\n",
    "\n",
    "* torch. optim — this where the optimizers in PyTorch live, they will help with gradient descent\n",
    "\n",
    "* def forward() — All nn.Module subclasses require you to overwrite forward() method, this method defines what happens in the forward computation\n",
    "\n",
    "* See more of these essential modules via the PyTorch cheatsheet - https://pytorch.org/tutorials/beginner/ptcheat.html"
   ]
  },
  {
   "cell_type": "markdown",
   "metadata": {},
   "source": [
    "### Checking the contents of our PyTorch model\n",
    "\n",
    "Now we have created a model, let's see what's inside...\n",
    "\n",
    "So we can check our model parameters or what's inside our model using `.parameters()`."
   ]
  },
  {
   "cell_type": "code",
   "execution_count": 9,
   "metadata": {},
   "outputs": [
    {
     "data": {
      "text/plain": [
       "[Parameter containing:\n",
       " tensor([0.3367], requires_grad=True),\n",
       " Parameter containing:\n",
       " tensor([0.1288], requires_grad=True)]"
      ]
     },
     "execution_count": 9,
     "metadata": {},
     "output_type": "execute_result"
    }
   ],
   "source": [
    "# Create a random seed\n",
    "torch.manual_seed(42)\n",
    "\n",
    "# Create an instance of the model (this is a subclass of nn.Module)\n",
    "model_0 = linear_regression_model()\n",
    "\n",
    "# Check the model's parameters\n",
    "list(model_0.parameters())"
   ]
  },
  {
   "cell_type": "code",
   "execution_count": 10,
   "metadata": {},
   "outputs": [
    {
     "data": {
      "text/plain": [
       "OrderedDict([('weights', tensor([0.3367])), ('bias', tensor([0.1288]))])"
      ]
     },
     "execution_count": 10,
     "metadata": {},
     "output_type": "execute_result"
    }
   ],
   "source": [
    "# list named parameters\n",
    "model_0.state_dict()"
   ]
  },
  {
   "cell_type": "markdown",
   "metadata": {},
   "source": [
    "### Making prediction using `torch.inference_mode()`\n",
    "\n",
    "To check our model's predictive power, let's see how well it predicts `y_test` based on `X_test`.\n",
    "\n",
    "When we pass data through our model, it's going to run it through the `forward()` method."
   ]
  },
  {
   "cell_type": "code",
   "execution_count": 11,
   "metadata": {},
   "outputs": [
    {
     "data": {
      "text/plain": [
       "tensor([[0.3982],\n",
       "        [0.4049],\n",
       "        [0.4116],\n",
       "        [0.4184],\n",
       "        [0.4251],\n",
       "        [0.4318],\n",
       "        [0.4386],\n",
       "        [0.4453],\n",
       "        [0.4520],\n",
       "        [0.4588]], grad_fn=<AddBackward0>)"
      ]
     },
     "execution_count": 11,
     "metadata": {},
     "output_type": "execute_result"
    }
   ],
   "source": [
    "# you can generate predictions using the following command too\n",
    "y_preds = model_0(X_test)\n",
    "y_preds\n",
    "\n",
    "# But this method will be slower because this also returns the grad_fn which is not calculated during torch.inference_mode(). Thus the latter works faster."
   ]
  },
  {
   "cell_type": "code",
   "execution_count": 12,
   "metadata": {},
   "outputs": [
    {
     "data": {
      "text/plain": [
       "tensor([[0.3982],\n",
       "        [0.4049],\n",
       "        [0.4116],\n",
       "        [0.4184],\n",
       "        [0.4251],\n",
       "        [0.4318],\n",
       "        [0.4386],\n",
       "        [0.4453],\n",
       "        [0.4520],\n",
       "        [0.4588]])"
      ]
     },
     "execution_count": 12,
     "metadata": {},
     "output_type": "execute_result"
    }
   ],
   "source": [
    "# Make predictions with model\n",
    "with torch.inference_mode():\n",
    "    y_preds = model_0(X_test)\n",
    "\n",
    "# You can also do something similar with torch.no_grad(), however, torch.inference_mode() is preferred\n",
    "with torch.no_grad():\n",
    "    y_preds = model_0(X_test)\n",
    "\n",
    "y_preds"
   ]
  },
  {
   "cell_type": "code",
   "execution_count": 13,
   "metadata": {},
   "outputs": [
    {
     "data": {
      "text/plain": [
       "tensor([[0.8600],\n",
       "        [0.8740],\n",
       "        [0.8880],\n",
       "        [0.9020],\n",
       "        [0.9160],\n",
       "        [0.9300],\n",
       "        [0.9440],\n",
       "        [0.9580],\n",
       "        [0.9720],\n",
       "        [0.9860]])"
      ]
     },
     "execution_count": 13,
     "metadata": {},
     "output_type": "execute_result"
    }
   ],
   "source": [
    "y_test"
   ]
  },
  {
   "cell_type": "code",
   "execution_count": 14,
   "metadata": {},
   "outputs": [
    {
     "data": {
      "image/png": "[encoded data removed]",
      "text/plain": [
       "<Figure size 1000x700 with 1 Axes>"
      ]
     },
     "metadata": {},
     "output_type": "display_data"
    }
   ],
   "source": [
    "plot_predictions(train_data=X_train, train_labels=y_train, test_data=X_test, test_labels=y_test, predictions = y_preds)"
   ]
  },
  {
   "cell_type": "markdown",
   "metadata": {},
   "source": [
    "## 3. Train Model\n",
    "\n",
    "The whole idea of training is for a model to move from some *unknown* parameters (these may be random) to some *known* parameters.\n",
    "\n",
    "Or in other words from a poor representation of the data to a better representation of the data.\n",
    "\n",
    "One way to measure how good or poor our model is doing, we use a loss function.\n",
    "\n",
    "* Note: Loss function may also be called a cost function or criterion in different areas. For our use case, we are going to refer to it as loss function.\n",
    "\n",
    "Things we need to train:\n",
    "\n",
    "* **Loss function**: A function to measure how wrong model's predictions are to the ideal outputs, lower is better.\n",
    "* **Optimizer**: Takes into account the loss of the model and adjusts the model's parameters (e.g. weight & bias in our case) to improve the loss function.\n",
    "* * Inside the optimizer you'll often have to set two paramters:\n",
    "* * * `params` - the model parameters you'd like to optimize for example `params = model_0.parameters()`\n",
    "* * * `lr` (learning rate): The learning rate is a hyperparameter that determines how big/small the optimizer changes the parameters with each step (a small `lr` results in small changes, a large `lr` results in large changes)\n",
    "\n",
    "And specifically for PyTorch, we need:\n",
    "\n",
    "* A training loop\n",
    "* A testing loop"
   ]
  },
  {
   "cell_type": "code",
   "execution_count": 15,
   "metadata": {},
   "outputs": [
    {
     "data": {
      "text/plain": [
       "[Parameter containing:\n",
       " tensor([0.3367], requires_grad=True),\n",
       " Parameter containing:\n",
       " tensor([0.1288], requires_grad=True)]"
      ]
     },
     "execution_count": 15,
     "metadata": {},
     "output_type": "execute_result"
    }
   ],
   "source": [
    "list(model_0.parameters())"
   ]
  },
  {
   "cell_type": "code",
   "execution_count": 16,
   "metadata": {},
   "outputs": [
    {
     "data": {
      "text/plain": [
       "OrderedDict([('weights', tensor([0.3367])), ('bias', tensor([0.1288]))])"
      ]
     },
     "execution_count": 16,
     "metadata": {},
     "output_type": "execute_result"
    }
   ],
   "source": [
    "model_0.state_dict()"
   ]
  },
  {
   "cell_type": "code",
   "execution_count": 17,
   "metadata": {},
   "outputs": [],
   "source": [
    "# Setup a loss function\n",
    "loss_fn = torch.mean(torch.abs(y_preds - y_test))\n",
    "\n",
    "loss_fn = nn.L1Loss()\n",
    "\n",
    "\n",
    "# set up an optimizer (sochastic gradient descent)\n",
    "optimizer = torch.optim.SGD(params = model_0.parameters(),\n",
    "                            lr= 0.0001)  # lr - Learning rate is posibly one of the most important hyperparameter"
   ]
  },
  {
   "cell_type": "markdown",
   "metadata": {},
   "source": [
    "**Q.** Which loss function and optimizer should I ues?\n",
    "\n",
    "**A.** This will be problem specific. But with experience, you'll get an idea of what works and what doesn't with your particular\n",
    "problem set.\n",
    "\n",
    "For example, for a regression problem (like ours), a loss function of `nn.L1Loss()` and an optimizer like `torch.optim.SGD()` will\n",
    "suffice.\n",
    "\n",
    "But for a classification problem like classifying whether a photo is of a dog or a cat, you'll likely want to use a loss function of\n",
    "`nn.BCELoss()` (binary cross entropy loss)."
   ]
  },
  {
   "cell_type": "markdown",
   "metadata": {},
   "source": [
    "### Building a training loop (and a testing loop) in PyTorch\n",
    "\n",
    "A couple of things we need in a training loop:\n",
    "\n",
    "0. Loop through the data and do...\n",
    "1. Forward pass (this involves data moving through our model's `forward()` functions) to make predictions on data - also called forward propagation\n",
    "2. Calculate the loss (compare forward pass predictions to ground truth labels)\n",
    "3. Optimizer zero grad\n",
    "4. Loss Backward - moves backwards through the network to calculate the gradients of each of the parameters of our model with respect to the loss (**back propagation**)\n",
    "5. Optimizer step - use the optimizer to adjust our model's parameters to try snf improve the loss (**gradient descent**)"
   ]
  },
  {
   "cell_type": "code",
   "execution_count": 18,
   "metadata": {},
   "outputs": [
    {
     "name": "stdout",
     "output_type": "stream",
     "text": [
      "Epoch : 0 | Loss: 0.31288138031959534 | Test Loss : 0.4944015145301819\n",
      "Epoch : 1000 | Loss: 0.1976652592420578 | Test Loss : 0.3596797585487366\n",
      "Epoch : 2000 | Loss: 0.08982332795858383 | Test Loss : 0.22905269265174866\n",
      "Epoch : 3000 | Loss: 0.05364571884274483 | Test Loss : 0.15158791840076447\n",
      "Epoch : 4000 | Loss: 0.045492880046367645 | Test Loss : 0.11691746860742569\n",
      "Epoch : 5000 | Loss: 0.04159027710556984 | Test Loss : 0.10100533813238144\n",
      "Epoch : 6000 | Loss: 0.03809983655810356 | Test Loss : 0.08999161422252655\n",
      "Epoch : 7000 | Loss: 0.03464643657207489 | Test Loss : 0.08100324124097824\n",
      "Epoch : 8000 | Loss: 0.03121051751077175 | Test Loss : 0.07296924293041229\n",
      "Epoch : 9000 | Loss: 0.027774646878242493 | Test Loss : 0.06493865698575974\n",
      "Epoch : 10000 | Loss: 0.024338718503713608 | Test Loss : 0.056904666125774384\n",
      "Epoch : 11000 | Loss: 0.02090274728834629 | Test Loss : 0.04886721819639206\n",
      "Epoch : 12000 | Loss: 0.017466822639107704 | Test Loss : 0.040833234786987305\n",
      "Epoch : 13000 | Loss: 0.014030903577804565 | Test Loss : 0.032799236476421356\n",
      "Epoch : 14000 | Loss: 0.010594984516501427 | Test Loss : 0.024765247479081154\n",
      "Epoch : 15000 | Loss: 0.0071590617299079895 | Test Loss : 0.01673126220703125\n",
      "Epoch : 16000 | Loss: 0.0037231191527098417 | Test Loss : 0.008700674399733543\n",
      "Epoch : 17000 | Loss: 0.00028718262910842896 | Test Loss : 0.0006666779518127441\n",
      "Epoch : 18000 | Loss: 6.57841592328623e-05 | Test Loss : 3.293156623840332e-05\n",
      "Epoch : 19000 | Loss: 6.57841592328623e-05 | Test Loss : 3.293156623840332e-05\n",
      "Epoch : 20000 | Loss: 6.57841592328623e-05 | Test Loss : 3.293156623840332e-05\n",
      "Epoch : 21000 | Loss: 6.57841592328623e-05 | Test Loss : 3.293156623840332e-05\n",
      "Epoch : 22000 | Loss: 6.57841592328623e-05 | Test Loss : 3.293156623840332e-05\n",
      "Epoch : 23000 | Loss: 6.57841592328623e-05 | Test Loss : 3.293156623840332e-05\n",
      "Epoch : 24000 | Loss: 6.57841592328623e-05 | Test Loss : 3.293156623840332e-05\n",
      "Epoch : 25000 | Loss: 6.57841592328623e-05 | Test Loss : 3.293156623840332e-05\n",
      "Epoch : 26000 | Loss: 6.57841592328623e-05 | Test Loss : 3.293156623840332e-05\n",
      "Epoch : 27000 | Loss: 6.57841592328623e-05 | Test Loss : 3.293156623840332e-05\n",
      "Epoch : 28000 | Loss: 6.57841592328623e-05 | Test Loss : 3.293156623840332e-05\n",
      "Epoch : 29000 | Loss: 6.57841592328623e-05 | Test Loss : 3.293156623840332e-05\n",
      "OrderedDict([('weights', tensor([0.6999])), ('bias', tensor([0.3000]))])\n"
     ]
    }
   ],
   "source": [
    "torch.manual_seed(42)\n",
    "# An epoch is one loop through data\n",
    "epochs = 30000  # This is our hyperparameter because we have set it ourselves\n",
    "epoch_count = []\n",
    "loss_values = []\n",
    "test_loss_values = []\n",
    "\n",
    "### Training\n",
    "# 0. loop through the data\n",
    "for epoch in range(epochs):\n",
    "    # set the model to training mode\n",
    "    model_0.train() # train mode in PyTorch sets all parameters that require gradients to require gradients\n",
    "\n",
    "    # 1. Forward pass\n",
    "    y_pred = model_0(X_train)\n",
    "\n",
    "    # 2. Calculate loss\n",
    "    loss = loss_fn(y_pred,y_train)\n",
    "\n",
    "    # 3. Optimizer Zero grad\n",
    "    optimizer.zero_grad()\n",
    "\n",
    "    # 4. Perform backpropagation on the loss with respect to the parameters of the model\n",
    "    loss.backward()\n",
    "\n",
    "    # 5. Step the optimizer (perform gradient descent)\n",
    "    optimizer.step()  # by default how the optimizer changes will accumulate through the loop so... we have to zero them above in step 3 for the next iteration of the loop\n",
    "\n",
    "    ### Testing\n",
    "    model_0.eval() # model.eval() turns off different settings in the model not needed fir evaluation/testing (dropout, batchnorm)\n",
    "    with torch.inference_mode(): # turns gradient tracking off and couple of more things behind the scenes\n",
    "        # 1. do the forward pass\n",
    "        y_test_pred = model_0(X_test)\n",
    "\n",
    "        # 2. Calculate the loss\n",
    "        test_loss = loss_fn(y_test_pred, y_test)\n",
    "\n",
    "    epoch_count.append(epoch)\n",
    "    loss_values.append(loss.item())\n",
    "    test_loss_values.append(test_loss.item())\n",
    "\n",
    "    # Print out whats happening\n",
    "    if epoch % 1000 == 0:\n",
    "        print(f\"Epoch : {epoch} | Loss: {loss} | Test Loss : {test_loss}\")\n",
    "\n",
    "\n",
    "print(model_0.state_dict())"
   ]
  },
  {
   "cell_type": "markdown",
   "metadata": {},
   "source": [
    "# 4. Making predictions with a trained model"
   ]
  },
  {
   "cell_type": "code",
   "execution_count": 19,
   "metadata": {},
   "outputs": [],
   "source": [
    "with torch.inference_mode():\n",
    "    y_preds_new = model_0(X_test)"
   ]
  },
  {
   "cell_type": "code",
   "execution_count": 20,
   "metadata": {},
   "outputs": [
    {
     "data": {
      "image/png": "[encoded data removed]",
      "text/plain": [
       "<Figure size 1000x700 with 1 Axes>"
      ]
     },
     "metadata": {},
     "output_type": "display_data"
    }
   ],
   "source": [
    "plot_predictions(predictions=y_preds_new)"
   ]
  },
  {
   "cell_type": "code",
   "execution_count": 21,
   "metadata": {},
   "outputs": [
    {
     "data": {
      "image/png": "[encoded data removed]",
      "text/plain": [
       "<Figure size 1000x600 with 1 Axes>"
      ]
     },
     "metadata": {},
     "output_type": "display_data"
    }
   ],
   "source": [
    "def experiment_tracking(epoch_count = epoch_count, loss_values = loss_values, test_loss_values = test_loss_values):\n",
    "    '''\n",
    "    A function to track the training and testing loss values during each epoch while training\n",
    "    '''\n",
    "    plt.figure(figsize=(10,6))\n",
    "    plt.plot(epoch_count, loss_values, label = \"Training Loss\")\n",
    "    plt.plot(epoch_count, test_loss_values, label = \"Test Loss\")\n",
    "    plt.title(\"Training and Testing Loss curves\")\n",
    "    plt.xlabel(\"Epochs\")\n",
    "    plt.ylabel(\"Loss\")\n",
    "    plt.legend()\n",
    "    plt.show()\n",
    "\n",
    "experiment_tracking()"
   ]
  },
  {
   "cell_type": "markdown",
   "metadata": {},
   "source": [
    "## 5. Saving and loading a Model in PyTorch\n",
    "\n",
    "### Saving a model in PyTorch\n",
    "\n",
    "There are 3 main methods you should know about for saving and loading models in PyTorch\n",
    "\n",
    "1. `torch.save()` - allows you to save a PyTorch object in Python's pickle format\n",
    "2. `torch.load()` - allows you to load a saved PyTorch object\n",
    "3. `torch.nn.Module.load_state_dict()` - this allows to load a model's saved state dictionary"
   ]
  },
  {
   "cell_type": "code",
   "execution_count": 22,
   "metadata": {},
   "outputs": [
    {
     "name": "stdout",
     "output_type": "stream",
     "text": [
      "Saving the model to path : models\\01_pytorch_workflow_model_0.pth\n"
     ]
    }
   ],
   "source": [
    "# Saving our PyTorch model\n",
    "from pathlib import Path\n",
    "\n",
    "# 1. Create a model path\n",
    "MODEL_PATH = Path(\"models\")\n",
    "MODEL_PATH.mkdir(parents = True, exist_ok = True)\n",
    "\n",
    "# 2. Create a file name\n",
    "MODEL_NAME = \"01_pytorch_workflow_model_0.pth\"\n",
    "MODEL_SAVE_PATH = MODEL_PATH / MODEL_NAME\n",
    "\n",
    "# 3. Save the model\n",
    "print(f\"Saving the model to path : {MODEL_SAVE_PATH}\")\n",
    "torch.save(obj=model_0.state_dict(),\n",
    "           f = MODEL_SAVE_PATH)"
   ]
  },
  {
   "cell_type": "markdown",
   "metadata": {},
   "source": [
    "### Loading a saved model in PyTorch\n",
    "\n",
    "Since we save our model's `state_dict()` rather than the entire model, we'll create a new instance of the model class and load the `state_dict()` into that."
   ]
  },
  {
   "cell_type": "code",
   "execution_count": 23,
   "metadata": {},
   "outputs": [
    {
     "name": "stderr",
     "output_type": "stream",
     "text": [
      "C:\\Users\\Ashutosh Choudhari\\AppData\\Local\\Temp\\ipykernel_63392\\1600606632.py:2: FutureWarning: You are using `torch.load` with `weights_only=False` (the current default value), which uses the default pickle module implicitly. It is possible to construct malicious pickle data which will execute arbitrary code during unpickling (See https://github.com/pytorch/pytorch/blob/main/SECURITY.md#untrusted-models for more details). In a future release, the default value for `weights_only` will be flipped to `True`. This limits the functions that could be executed during unpickling. Arbitrary objects will no longer be allowed to be loaded via this mode unless they are explicitly allowlisted by the user via `torch.serialization.add_safe_globals`. We recommend you start setting `weights_only=True` for any use case where you don't have full control of the loaded file. Please open an issue on GitHub for any issues related to this experimental feature.\n",
      "  saved_model_state_dict = torch.load(f=MODEL_SAVE_PATH)\n"
     ]
    },
    {
     "data": {
      "text/plain": [
       "<All keys matched successfully>"
      ]
     },
     "execution_count": 23,
     "metadata": {},
     "output_type": "execute_result"
    }
   ],
   "source": [
    "loaded_model_0 = linear_regression_model()\n",
    "saved_model_state_dict = torch.load(f=MODEL_SAVE_PATH)\n",
    "\n",
    "loaded_model_0.load_state_dict(saved_model_state_dict)"
   ]
  },
  {
   "cell_type": "code",
   "execution_count": 24,
   "metadata": {},
   "outputs": [
    {
     "data": {
      "text/plain": [
       "OrderedDict([('weights', tensor([0.6999])), ('bias', tensor([0.3000]))])"
      ]
     },
     "execution_count": 24,
     "metadata": {},
     "output_type": "execute_result"
    }
   ],
   "source": [
    "loaded_model_0.state_dict()"
   ]
  },
  {
   "cell_type": "code",
   "execution_count": 25,
   "metadata": {},
   "outputs": [
    {
     "data": {
      "image/png": "[encoded data removed]",
      "text/plain": [
       "<Figure size 1000x700 with 1 Axes>"
      ]
     },
     "metadata": {},
     "output_type": "display_data"
    }
   ],
   "source": [
    "# Make some predictions with our loaded model\n",
    "loaded_model_0.eval()\n",
    "with torch.inference_mode():\n",
    "    loaded_preds_test = loaded_model_0(X_test)\n",
    "\n",
    "plot_predictions(predictions=loaded_preds_test)"
   ]
  },
  {
   "cell_type": "code",
   "execution_count": 26,
   "metadata": {},
   "outputs": [
    {
     "data": {
      "text/plain": [
       "tensor([[True],\n",
       "        [True],\n",
       "        [True],\n",
       "        [True],\n",
       "        [True],\n",
       "        [True],\n",
       "        [True],\n",
       "        [True],\n",
       "        [True],\n",
       "        [True]])"
      ]
     },
     "execution_count": 26,
     "metadata": {},
     "output_type": "execute_result"
    }
   ],
   "source": [
    "loaded_preds_test == y_test_pred"
   ]
  },
  {
   "cell_type": "markdown",
   "metadata": {},
   "source": [
    "## 6. Putting it all together\n",
    "\n",
    "Let's go back through the steps above and see it all in one place."
   ]
  },
  {
   "cell_type": "code",
   "execution_count": 27,
   "metadata": {},
   "outputs": [
    {
     "name": "stdout",
     "output_type": "stream",
     "text": [
      "2.5.1\n"
     ]
    }
   ],
   "source": [
    "# Import PyTorch and Matplotlib\n",
    "\n",
    "import torch\n",
    "from torch import nn\n",
    "import matplotlib.pyplot as plt\n",
    "\n",
    "# Check PyTorch version\n",
    "print(torch.__version__)"
   ]
  },
  {
   "cell_type": "markdown",
   "metadata": {},
   "source": [
    "### Create device agnostic code\n",
    "\n",
    "This means our code will run on GPU if a GPU is available. (for potentially faster computing)\n",
    "\n",
    "If GPU is not available, our code will run on CPU."
   ]
  },
  {
   "cell_type": "code",
   "execution_count": 28,
   "metadata": {},
   "outputs": [
    {
     "data": {
      "text/plain": [
       "'cuda'"
      ]
     },
     "execution_count": 28,
     "metadata": {},
     "output_type": "execute_result"
    }
   ],
   "source": [
    "# check which device\n",
    "device = \"cuda\" if torch.cuda.is_available() else \"cpu\"\n",
    "device"
   ]
  },
  {
   "cell_type": "code",
   "execution_count": 29,
   "metadata": {},
   "outputs": [
    {
     "name": "stdout",
     "output_type": "stream",
     "text": [
      "Mon Dec 30 22:21:49 2024       \n",
      "+-----------------------------------------------------------------------------------------+\n",
      "| NVIDIA-SMI 566.36                 Driver Version: 566.36         CUDA Version: 12.7     |\n",
      "|-----------------------------------------+------------------------+----------------------+\n",
      "| GPU  Name                  Driver-Model | Bus-Id          Disp.A | Volatile Uncorr. ECC |\n",
      "| Fan  Temp   Perf          Pwr:Usage/Cap |           Memory-Usage | GPU-Util  Compute M. |\n",
      "|                                         |                        |               MIG M. |\n",
      "|=========================================+========================+======================|\n",
      "|   0  NVIDIA GeForce RTX 2060      WDDM  |   00000000:01:00.0  On |                  N/A |\n",
      "| N/A   70C    P8             12W /   80W |    5689MiB /   6144MiB |      2%      Default |\n",
      "|                                         |                        |                  N/A |\n",
      "+-----------------------------------------+------------------------+----------------------+\n",
      "                                                                                         \n",
      "+-----------------------------------------------------------------------------------------+\n",
      "| Processes:                                                                              |\n",
      "|  GPU   GI   CI        PID   Type   Process name                              GPU Memory |\n",
      "|        ID   ID                                                               Usage      |\n",
      "|=========================================================================================|\n",
      "|    0   N/A  N/A      2244    C+G   ...\\cef\\cef.win7x64\\steamwebhelper.exe      N/A      |\n",
      "|    0   N/A  N/A      3220    C+G   ...m Files\\Mozilla Firefox\\firefox.exe      N/A      |\n",
      "|    0   N/A  N/A      4432    C+G   ...siveControlPanel\\SystemSettings.exe      N/A      |\n",
      "|    0   N/A  N/A      9196      C   ...houdhari\\.conda\\envs\\ARC\\python.exe      N/A      |\n",
      "|    0   N/A  N/A     10916    C+G   ... Stream\\101.0.3.0\\GoogleDriveFS.exe      N/A      |\n",
      "|    0   N/A  N/A     11556    C+G   ...tionsPlus\\logioptionsplus_agent.exe      N/A      |\n",
      "|    0   N/A  N/A     12268    C+G   C:\\Windows\\System32\\NahimicSvc64.exe        N/A      |\n",
      "|    0   N/A  N/A     14148    C+G   ...i\\AppData\\Roaming\\Zoom\\bin\\Zoom.exe      N/A      |\n",
      "|    0   N/A  N/A     16232    C+G   ...x64__8wekyb3d8bbwe\\WinStore.App.exe      N/A      |\n",
      "|    0   N/A  N/A     18176    C+G   ...crosoft\\Edge\\Application\\msedge.exe      N/A      |\n",
      "|    0   N/A  N/A     18248    C+G   ...m Files\\Mozilla Firefox\\firefox.exe      N/A      |\n",
      "|    0   N/A  N/A     18280    C+G   ...ekyb3d8bbwe\\PhoneExperienceHost.exe      N/A      |\n",
      "|    0   N/A  N/A     18960    C+G   ...n\\131.0.2903.112\\msedgewebview2.exe      N/A      |\n",
      "|    0   N/A  N/A     19708    C+G   ...4.0_x64__w2gh52qy24etm\\Nahimic3.exe      N/A      |\n",
      "|    0   N/A  N/A     20324    C+G   ...les\\Microsoft OneDrive\\OneDrive.exe      N/A      |\n",
      "|    0   N/A  N/A     22896    C+G   ...n\\131.0.2903.112\\msedgewebview2.exe      N/A      |\n",
      "|    0   N/A  N/A     23080    C+G   ...UI3Apps\\PowerToys.AdvancedPaste.exe      N/A      |\n",
      "|    0   N/A  N/A     25312    C+G   ...n\\131.0.2903.112\\msedgewebview2.exe      N/A      |\n",
      "|    0   N/A  N/A     26904    C+G   ...werToys\\PowerToys.ColorPickerUI.exe      N/A      |\n",
      "|    0   N/A  N/A     27532    C+G   ...ys\\WinUI3Apps\\PowerToys.Peek.UI.exe      N/A      |\n",
      "|    0   N/A  N/A     27784    C+G   ...crosoft\\Edge\\Application\\msedge.exe      N/A      |\n",
      "|    0   N/A  N/A     28000    C+G   ...ne\\Binaries\\Win64\\EpicWebHelper.exe      N/A      |\n",
      "|    0   N/A  N/A     31664    C+G   ...inaries\\Win64\\EpicGamesLauncher.exe      N/A      |\n",
      "|    0   N/A  N/A     32364    C+G   ...951_x64__8wekyb3d8bbwe\\ms-teams.exe      N/A      |\n",
      "|    0   N/A  N/A     33000    C+G   ...__8wekyb3d8bbwe\\WindowsTerminal.exe      N/A      |\n",
      "|    0   N/A  N/A     38584    C+G   ...2txyewy\\StartMenuExperienceHost.exe      N/A      |\n",
      "|    0   N/A  N/A     39688    C+G   ...n\\NVIDIA app\\CEF\\NVIDIA Overlay.exe      N/A      |\n",
      "|    0   N/A  N/A     41396    C+G   ...Programs\\Microsoft VS Code\\Code.exe      N/A      |\n",
      "|    0   N/A  N/A     45152    C+G   ...ft Office\\root\\Office16\\WINWORD.EXE      N/A      |\n",
      "|    0   N/A  N/A     46812    C+G   ...n\\131.0.2903.112\\msedgewebview2.exe      N/A      |\n",
      "|    0   N/A  N/A     47388      C   ...houdhari\\.conda\\envs\\ARC\\python.exe      N/A      |\n",
      "|    0   N/A  N/A     48024    C+G   ...n\\NVIDIA app\\CEF\\NVIDIA Overlay.exe      N/A      |\n",
      "|    0   N/A  N/A     48504    C+G   ...nt.CBS_cw5n1h2txyewy\\SearchHost.exe      N/A      |\n",
      "|    0   N/A  N/A     51260    C+G   C:\\Windows\\explorer.exe                     N/A      |\n",
      "|    0   N/A  N/A     52852    C+G   ...4.0_x64__cv1g1gvanyjgm\\WhatsApp.exe      N/A      |\n",
      "|    0   N/A  N/A     52956    C+G   ...5n1h2txyewy\\ShellExperienceHost.exe      N/A      |\n",
      "|    0   N/A  N/A     55104    C+G   ...6.0_x64__cv1g1gvanyjgm\\WhatsApp.exe      N/A      |\n",
      "|    0   N/A  N/A     56864    C+G   ...werToys\\PowerToys.PowerLauncher.exe      N/A      |\n",
      "|    0   N/A  N/A     59620    C+G   ...CBS_cw5n1h2txyewy\\TextInputHost.exe      N/A      |\n",
      "|    0   N/A  N/A     61508    C+G   ...mpt_builder\\LogiAiPromptBuilder.exe      N/A      |\n",
      "+-----------------------------------------------------------------------------------------+\n"
     ]
    }
   ],
   "source": [
    "!nvidia-smi"
   ]
  },
  {
   "cell_type": "markdown",
   "metadata": {},
   "source": [
    "### 6.1 Data"
   ]
  },
  {
   "cell_type": "code",
   "execution_count": 30,
   "metadata": {},
   "outputs": [],
   "source": [
    "# create *known* parameters\n",
    "weight = 0.7\n",
    "bias = 0.3\n",
    "\n",
    "# create\n",
    "start = 0\n",
    "end = 1\n",
    "step = 0.02\n",
    "\n",
    "X = torch.arange(start = start, end = end, step = step).unsqueeze(dim=1)\n",
    "y = weight * X + bias"
   ]
  },
  {
   "cell_type": "markdown",
   "metadata": {},
   "source": [
    "#### Splitting the data in train and test sets"
   ]
  },
  {
   "cell_type": "code",
   "execution_count": 31,
   "metadata": {},
   "outputs": [
    {
     "name": "stdout",
     "output_type": "stream",
     "text": [
      "cpu\n"
     ]
    }
   ],
   "source": [
    "train_split = int(0.8 * len(X))\n",
    "X_train, y_train = X[:train_split], y[:train_split]\n",
    "X_test, y_test = X[train_split:], y[train_split:]\n",
    "\n",
    "print(X_train.device)"
   ]
  },
  {
   "cell_type": "code",
   "execution_count": 32,
   "metadata": {},
   "outputs": [],
   "source": [
    "def plot_predictions(train_data = X_train, train_labels = y_train,\n",
    "                     test_data = X_test, test_labels = y_test, predictions = None):\n",
    "    ''' \n",
    "        This function plots the training data vs training labels and test data vs test labels and predictions if provided in arguments\n",
    "    '''\n",
    "\n",
    "    plt.figure(figsize= (10,7))\n",
    "    plt.scatter(x=train_data, y=train_labels, c=\"b\",s = 4, label = \"Training Data\")\n",
    "    plt.scatter(x = test_data, y = test_labels, c = \"g\", s = 8, label = \"Testing Data\")\n",
    "\n",
    "    if predictions is not None:\n",
    "        plt.scatter(x = test_data, y= predictions, c='r', s=4, label= \"Predictions\")\n",
    "\n",
    "    plt.title = \"Plotting Train, Test and Prediction Data\"\n",
    "    plt.xlabel = \"data\"\n",
    "    plt.ylabel = \"labels\"\n",
    "    plt.legend(prop = {\"size\":14})\n",
    "    plt.show()\n",
    "    return None\n"
   ]
  },
  {
   "cell_type": "code",
   "execution_count": 33,
   "metadata": {},
   "outputs": [
    {
     "data": {
      "image/png": "[encoded data removed]",
      "text/plain": [
       "<Figure size 1000x700 with 1 Axes>"
      ]
     },
     "metadata": {},
     "output_type": "display_data"
    }
   ],
   "source": [
    "plot_predictions(train_data=X_train, train_labels= y_train, test_data= X_test, test_labels= y_test)\n"
   ]
  },
  {
   "cell_type": "markdown",
   "metadata": {},
   "source": [
    "### 6.2 Building our model"
   ]
  },
  {
   "cell_type": "code",
   "execution_count": 34,
   "metadata": {},
   "outputs": [],
   "source": [
    "from torch import nn\n",
    "\n",
    "# Create Linear Regression Model Class\n",
    "class linear_regression_model_v2(nn.Module):\n",
    "    def __init__(self):\n",
    "        super().__init__()\n",
    "        ## use nn.Linear() for creating the model parameters/ also called: linear transform, dense layer, probing layer, fully connected layer.\n",
    "        self.linear_layer = nn.Linear(in_features=1,\n",
    "                                      out_features=1)\n",
    "        \n",
    "    def forward(self, x:torch.Tensor) -> torch.Tensor:\n",
    "        return self.linear_layer(x)"
   ]
  },
  {
   "cell_type": "code",
   "execution_count": 35,
   "metadata": {},
   "outputs": [
    {
     "data": {
      "text/plain": [
       "[Parameter containing:\n",
       " tensor([[0.7645]], requires_grad=True),\n",
       " Parameter containing:\n",
       " tensor([0.8300], requires_grad=True)]"
      ]
     },
     "execution_count": 35,
     "metadata": {},
     "output_type": "execute_result"
    }
   ],
   "source": [
    "torch.manual_seed(42)\n",
    "\n",
    "model_1 = linear_regression_model_v2()\n",
    "\n",
    "list(model_1.parameters())"
   ]
  },
  {
   "cell_type": "code",
   "execution_count": 36,
   "metadata": {},
   "outputs": [
    {
     "data": {
      "text/plain": [
       "OrderedDict([('linear_layer.weight', tensor([[0.7645]])),\n",
       "             ('linear_layer.bias', tensor([0.8300]))])"
      ]
     },
     "execution_count": 36,
     "metadata": {},
     "output_type": "execute_result"
    }
   ],
   "source": [
    "model_1.state_dict()"
   ]
  },
  {
   "cell_type": "code",
   "execution_count": 37,
   "metadata": {},
   "outputs": [
    {
     "data": {
      "text/plain": [
       "device(type='cpu')"
      ]
     },
     "execution_count": 37,
     "metadata": {},
     "output_type": "execute_result"
    }
   ],
   "source": [
    "# Check the model current device\n",
    "next(model_1.parameters()).device"
   ]
  },
  {
   "cell_type": "code",
   "execution_count": 38,
   "metadata": {},
   "outputs": [
    {
     "name": "stdout",
     "output_type": "stream",
     "text": [
      "cuda:0\n"
     ]
    }
   ],
   "source": [
    "model_1.to(device)\n",
    "print(next(model_1.parameters()).device)"
   ]
  },
  {
   "cell_type": "markdown",
   "metadata": {},
   "source": [
    "# 6.3 Training\n",
    "\n",
    "* loss function\n",
    "\n",
    "* optimizer\n",
    "\n",
    "* training loop\n",
    "\n",
    "* testing loop"
   ]
  },
  {
   "cell_type": "code",
   "execution_count": 39,
   "metadata": {},
   "outputs": [
    {
     "name": "stdout",
     "output_type": "stream",
     "text": [
      "Epoch : 0 | Training loss : 0.5551779866218567 | Testing loss : 0.5861001014709473\n",
      "Epoch : 100 | Training loss : 0.4399694502353668 | Testing loss : 0.4513919949531555\n",
      "Epoch : 200 | Training loss : 0.3247610330581665 | Testing loss : 0.31668388843536377\n",
      "Epoch : 300 | Training loss : 0.209552600979805 | Testing loss : 0.18197579681873322\n",
      "Epoch : 400 | Training loss : 0.09434414654970169 | Testing loss : 0.04726768285036087\n",
      "Epoch : 500 | Training loss : 0.024156799539923668 | Testing loss : 0.044561710208654404\n",
      "Epoch : 600 | Training loss : 0.019893135875463486 | Testing loss : 0.046012092381715775\n",
      "Epoch : 700 | Training loss : 0.016448119655251503 | Testing loss : 0.03835631161928177\n",
      "Epoch : 800 | Training loss : 0.013014188967645168 | Testing loss : 0.030357254669070244\n",
      "Epoch : 900 | Training loss : 0.009578976780176163 | Testing loss : 0.022289562970399857\n",
      "Epoch : 1000 | Training loss : 0.006145037245005369 | Testing loss : 0.01429052371531725\n",
      "Epoch : 1100 | Training loss : 0.0027104676701128483 | Testing loss : 0.006257164757698774\n",
      "Epoch : 1200 | Training loss : 0.0007765308255329728 | Testing loss : 0.000619995582383126\n",
      "Epoch : 1300 | Training loss : 0.0007765308255329728 | Testing loss : 0.000619995582383126\n",
      "Epoch : 1400 | Training loss : 0.0007765308255329728 | Testing loss : 0.000619995582383126\n",
      "Epoch : 1500 | Training loss : 0.0007765308255329728 | Testing loss : 0.000619995582383126\n",
      "Epoch : 1600 | Training loss : 0.0007765308255329728 | Testing loss : 0.000619995582383126\n",
      "Epoch : 1700 | Training loss : 0.0007765308255329728 | Testing loss : 0.000619995582383126\n",
      "Epoch : 1800 | Training loss : 0.0007765308255329728 | Testing loss : 0.000619995582383126\n",
      "Epoch : 1900 | Training loss : 0.0007765308255329728 | Testing loss : 0.000619995582383126\n",
      "Epoch : 2000 | Training loss : 0.0007765308255329728 | Testing loss : 0.000619995582383126\n",
      "Epoch : 2100 | Training loss : 0.0007765308255329728 | Testing loss : 0.000619995582383126\n",
      "Epoch : 2200 | Training loss : 0.0007765308255329728 | Testing loss : 0.000619995582383126\n",
      "Epoch : 2300 | Training loss : 0.0007765308255329728 | Testing loss : 0.000619995582383126\n",
      "Epoch : 2400 | Training loss : 0.0007765308255329728 | Testing loss : 0.000619995582383126\n",
      "Epoch : 2500 | Training loss : 0.0007765308255329728 | Testing loss : 0.000619995582383126\n",
      "Epoch : 2600 | Training loss : 0.0007765308255329728 | Testing loss : 0.000619995582383126\n",
      "Epoch : 2700 | Training loss : 0.0007765308255329728 | Testing loss : 0.000619995582383126\n",
      "Epoch : 2800 | Training loss : 0.0007765308255329728 | Testing loss : 0.000619995582383126\n",
      "Epoch : 2900 | Training loss : 0.0007765308255329728 | Testing loss : 0.000619995582383126\n"
     ]
    },
    {
     "data": {
      "text/plain": [
       "OrderedDict([('linear_layer.weight', tensor([[0.6999]], device='cuda:0')),\n",
       "             ('linear_layer.bias', tensor([0.3008], device='cuda:0'))])"
      ]
     },
     "execution_count": 39,
     "metadata": {},
     "output_type": "execute_result"
    }
   ],
   "source": [
    "loss_fn = nn.L1Loss()\n",
    "\n",
    "optimizer = torch.optim.SGD(params = model_1.parameters(),\n",
    "                            lr = 0.001)\n",
    "\n",
    "torch.manual_seed(42)\n",
    "\n",
    "epochs = 3000\n",
    "\n",
    "# lists to store the epoch, loss and test loss values\n",
    "epoch_count = []\n",
    "loss_values = []\n",
    "test_loss_values = []\n",
    "\n",
    "# Put data on the target device (device agnostic code for data)\n",
    "X_train = X_train.to(device)\n",
    "y_train = y_train.to(device)\n",
    "X_test = X_test.to(device)\n",
    "y_test = y_test.to(device)\n",
    "\n",
    "# training\n",
    "for epoch in range(epochs):\n",
    "    model_1.train()\n",
    "\n",
    "    y_pred = model_1(X_train)\n",
    "\n",
    "    loss = loss_fn(y_pred, y_train)\n",
    "\n",
    "    optimizer.zero_grad()\n",
    "\n",
    "    loss.backward()\n",
    "\n",
    "    optimizer.step()\n",
    "\n",
    "    # testing\n",
    "    model_1.eval()\n",
    "    with torch.inference_mode():\n",
    "        y_test_pred = model_1(X_test)\n",
    "\n",
    "        test_loss = loss_fn(y_test_pred,y_test)\n",
    "\n",
    "    if epoch % 100 == 0:\n",
    "        print(f\"Epoch : {epoch} | Training loss : {loss} | Testing loss : {test_loss}\")\n",
    "\n",
    "    epoch_count.append(epoch)\n",
    "    loss_values.append(loss.item())\n",
    "    test_loss_values.append(test_loss.item())\n",
    "\n",
    "model_1.state_dict()\n"
   ]
  },
  {
   "cell_type": "code",
   "execution_count": 40,
   "metadata": {},
   "outputs": [
    {
     "data": {
      "text/plain": [
       "OrderedDict([('linear_layer.weight', tensor([[0.6999]], device='cuda:0')),\n",
       "             ('linear_layer.bias', tensor([0.3008], device='cuda:0'))])"
      ]
     },
     "execution_count": 40,
     "metadata": {},
     "output_type": "execute_result"
    }
   ],
   "source": [
    "model_1.state_dict()"
   ]
  },
  {
   "cell_type": "markdown",
   "metadata": {},
   "source": [
    "# 6.4 Testing"
   ]
  },
  {
   "cell_type": "code",
   "execution_count": 41,
   "metadata": {},
   "outputs": [
    {
     "data": {
      "image/png": "[encoded data removed]",
      "text/plain": [
       "<Figure size 1000x700 with 1 Axes>"
      ]
     },
     "metadata": {},
     "output_type": "display_data"
    }
   ],
   "source": [
    "model_1.eval()\n",
    "with torch.inference_mode():\n",
    "    y_preds_new = model_1(X_test)\n",
    "\n",
    "\n",
    "plot_predictions(predictions=y_preds_new.cpu())"
   ]
  },
  {
   "cell_type": "markdown",
   "metadata": {},
   "source": [
    "# 6.5 Saving and loading our new model\n",
    "\n",
    "torch.save()\n",
    "torch.load()\n",
    "torch.nn.Module.load_saved_dict()"
   ]
  },
  {
   "cell_type": "code",
   "execution_count": 42,
   "metadata": {},
   "outputs": [
    {
     "name": "stdout",
     "output_type": "stream",
     "text": [
      "Saving the model to path : models\\01_pytorch_workflow_model_1.pth\n"
     ]
    }
   ],
   "source": [
    "from pathlib import Path\n",
    "\n",
    "# 1. Create a model path\n",
    "MODEL_PATH = Path(\"models\")\n",
    "MODEL_PATH.mkdir(exist_ok= True, parents = True)\n",
    "\n",
    "# 2. Create a file name\n",
    "MODEL_NAME = \"01_pytorch_workflow_model_1.pth\"\n",
    "MODEL_SAVE_PATH = MODEL_PATH / MODEL_NAME\n",
    "\n",
    "# 3. Save the model\n",
    "print(f\"Saving the model to path : {MODEL_SAVE_PATH}\")\n",
    "torch.save(obj = model_1.state_dict(),\n",
    "           f = MODEL_SAVE_PATH)\n"
   ]
  },
  {
   "cell_type": "code",
   "execution_count": 43,
   "metadata": {},
   "outputs": [
    {
     "name": "stderr",
     "output_type": "stream",
     "text": [
      "C:\\Users\\Ashutosh Choudhari\\AppData\\Local\\Temp\\ipykernel_63392\\2948054659.py:1: FutureWarning: You are using `torch.load` with `weights_only=False` (the current default value), which uses the default pickle module implicitly. It is possible to construct malicious pickle data which will execute arbitrary code during unpickling (See https://github.com/pytorch/pytorch/blob/main/SECURITY.md#untrusted-models for more details). In a future release, the default value for `weights_only` will be flipped to `True`. This limits the functions that could be executed during unpickling. Arbitrary objects will no longer be allowed to be loaded via this mode unless they are explicitly allowlisted by the user via `torch.serialization.add_safe_globals`. We recommend you start setting `weights_only=True` for any use case where you don't have full control of the loaded file. Please open an issue on GitHub for any issues related to this experimental feature.\n",
      "  new_model_state_dict = torch.load(MODEL_SAVE_PATH)\n"
     ]
    },
    {
     "data": {
      "text/plain": [
       "<All keys matched successfully>"
      ]
     },
     "execution_count": 43,
     "metadata": {},
     "output_type": "execute_result"
    }
   ],
   "source": [
    "new_model_state_dict = torch.load(MODEL_SAVE_PATH)\n",
    "\n",
    "new_model_1 = linear_regression_model_v2()\n",
    "\n",
    "new_model_1.load_state_dict(new_model_state_dict)"
   ]
  },
  {
   "cell_type": "code",
   "execution_count": 44,
   "metadata": {},
   "outputs": [
    {
     "name": "stdout",
     "output_type": "stream",
     "text": [
      "Parameter containing:\n",
      "tensor([[0.6999]], device='cuda:0', requires_grad=True)\n"
     ]
    },
    {
     "data": {
      "image/png": "[encoded data removed]",
      "text/plain": [
       "<Figure size 1000x700 with 1 Axes>"
      ]
     },
     "metadata": {},
     "output_type": "display_data"
    }
   ],
   "source": [
    "new_model_1.eval()\n",
    "new_model_1.to(device)\n",
    "\n",
    "print(next(new_model_1.parameters()))\n",
    "\n",
    "with torch.inference_mode():\n",
    "    loaded_preds = new_model_1(X_test)\n",
    "\n",
    "plot_predictions(predictions = loaded_preds.cpu())"
   ]
  },
  {
   "cell_type": "code",
   "execution_count": 45,
   "metadata": {},
   "outputs": [
    {
     "data": {
      "text/plain": [
       "tensor([[True],\n",
       "        [True],\n",
       "        [True],\n",
       "        [True],\n",
       "        [True],\n",
       "        [True],\n",
       "        [True],\n",
       "        [True],\n",
       "        [True],\n",
       "        [True]], device='cuda:0')"
      ]
     },
     "execution_count": 45,
     "metadata": {},
     "output_type": "execute_result"
    }
   ],
   "source": [
    "y_preds_new == loaded_preds"
   ]
  },
  {
   "cell_type": "code",
   "execution_count": null,
   "metadata": {},
   "outputs": [],
   "source": []
  },
  {
   "cell_type": "markdown",
   "metadata": {},
   "source": [
    "# Exercises"
   ]
  },
  {
   "cell_type": "code",
   "execution_count": 46,
   "metadata": {},
   "outputs": [],
   "source": [
    "import torch\n",
    "from torch import nn\n",
    "import matplotlib.pyplot as plt"
   ]
  },
  {
   "cell_type": "code",
   "execution_count": 47,
   "metadata": {},
   "outputs": [
    {
     "data": {
      "text/plain": [
       "'cuda'"
      ]
     },
     "execution_count": 47,
     "metadata": {},
     "output_type": "execute_result"
    }
   ],
   "source": [
    "device = \"cuda\" if torch.cuda.is_available() else \"cpu\"\n",
    "device"
   ]
  },
  {
   "cell_type": "markdown",
   "metadata": {},
   "source": [
    "#### 1. Data"
   ]
  },
  {
   "cell_type": "code",
   "execution_count": 48,
   "metadata": {},
   "outputs": [
    {
     "name": "stdout",
     "output_type": "stream",
     "text": [
      "tensor([[0.0000],\n",
      "        [0.0100],\n",
      "        [0.0200],\n",
      "        [0.0300],\n",
      "        [0.0400]]) <class 'torch.Tensor'> 100\n",
      "tensor([[0.9000],\n",
      "        [0.9030],\n",
      "        [0.9060],\n",
      "        [0.9090],\n",
      "        [0.9120]]) <class 'torch.Tensor'> 100\n"
     ]
    }
   ],
   "source": [
    "weight = 0.3\n",
    "bias = 0.9\n",
    "\n",
    "start = 0\n",
    "end = 1\n",
    "step = 0.01\n",
    "\n",
    "X = torch.arange(start=start, end= end, step= step,dtype=torch.float32).unsqueeze(dim=1)\n",
    "y = weight * X + bias\n",
    "\n",
    "print(X[:5],type(X), len(X))\n",
    "print(y[:5],type(y),len(y))\n"
   ]
  },
  {
   "cell_type": "code",
   "execution_count": 49,
   "metadata": {},
   "outputs": [
    {
     "name": "stdout",
     "output_type": "stream",
     "text": [
      "tensor([[0.0000],\n",
      "        [0.0100],\n",
      "        [0.0200],\n",
      "        [0.0300],\n",
      "        [0.0400]]) <class 'torch.Tensor'> 80\n",
      "tensor([[0.9000],\n",
      "        [0.9030],\n",
      "        [0.9060],\n",
      "        [0.9090],\n",
      "        [0.9120]]) <class 'torch.Tensor'> 80\n",
      "tensor([[0.8000],\n",
      "        [0.8100],\n",
      "        [0.8200],\n",
      "        [0.8300],\n",
      "        [0.8400]]) <class 'torch.Tensor'> 20\n",
      "tensor([[1.1400],\n",
      "        [1.1430],\n",
      "        [1.1460],\n",
      "        [1.1490],\n",
      "        [1.1520]]) <class 'torch.Tensor'> 20\n"
     ]
    }
   ],
   "source": [
    "train_split = int(0.8 * len(X))\n",
    "X_train = X[:train_split]\n",
    "X_test = X[train_split:]\n",
    "y_train = y[:train_split]\n",
    "y_test = y[train_split:]\n",
    "\n",
    "print(X_train[:5],type(X_train), len(X_train))\n",
    "print(y_train[:5],type(y_train),len(y_train))\n",
    "print(X_test[:5],type(X_test), len(X_test))\n",
    "print(y_test[:5],type(y_test),len(y_test))"
   ]
  },
  {
   "cell_type": "code",
   "execution_count": 50,
   "metadata": {},
   "outputs": [
    {
     "data": {
      "image/png": "[encoded data removed]",
      "text/plain": [
       "<Figure size 1000x700 with 1 Axes>"
      ]
     },
     "metadata": {},
     "output_type": "display_data"
    }
   ],
   "source": [
    "def plot_predictions(train_data = X_train, train_labels = y_train, test_data = X_test, test_labels = y_test, predictions= None):\n",
    "    \"\"\"\n",
    "    This functions visualises the train and test data\n",
    "    \"\"\"\n",
    "    plt.figure(figsize=(10,7))\n",
    "    plt.scatter(x=train_data, y= train_labels, c=\"b\", s =4, label=\"Training data\")\n",
    "    plt.scatter(x=test_data, y= test_labels, c=\"g\", s =8, label=\"Testing data\")\n",
    "\n",
    "    if predictions is not None:\n",
    "        plt.scatter(x=test_data, y= predictions, c=\"r\", s =4, label=\"prediction data\")\n",
    "\n",
    "    plt.title = \"Training and Testing data\"\n",
    "    plt.xlabel = \"data\"\n",
    "    plt.ylabel =\"labels\" \n",
    "    plt.legend(prop={'size':14})\n",
    "    plt.show()\n",
    "\n",
    "plot_predictions(train_data=X_train, train_labels = y_train, test_data= X_test,test_labels= y_test)"
   ]
  },
  {
   "cell_type": "markdown",
   "metadata": {},
   "source": [
    "#### 2. Build a pytorch model"
   ]
  },
  {
   "cell_type": "code",
   "execution_count": 51,
   "metadata": {},
   "outputs": [],
   "source": [
    "class Linear_regression(nn.Module):\n",
    "    def __init__(self):\n",
    "        super().__init__()\n",
    "        self.Linear_Layer = nn.Linear(in_features=1,\n",
    "                                      out_features= 1)\n",
    "        \n",
    "    def forward(self, x : torch.Tensor) -> torch.tensor :\n",
    "        return self.Linear_Layer(x)\n"
   ]
  },
  {
   "cell_type": "code",
   "execution_count": 52,
   "metadata": {},
   "outputs": [
    {
     "data": {
      "text/plain": [
       "OrderedDict([('Linear_Layer.weight', tensor([[-0.2343]])),\n",
       "             ('Linear_Layer.bias', tensor([0.9186]))])"
      ]
     },
     "execution_count": 52,
     "metadata": {},
     "output_type": "execute_result"
    }
   ],
   "source": [
    "model_lr = Linear_regression()\n",
    "\n",
    "model_lr.state_dict()"
   ]
  },
  {
   "cell_type": "code",
   "execution_count": 53,
   "metadata": {},
   "outputs": [],
   "source": [
    "loss_fn  = nn.L1Loss()\n",
    "\n",
    "optimizer = torch.optim.SGD(params=model_lr.parameters(),\n",
    "                            lr = 0.01)"
   ]
  },
  {
   "cell_type": "markdown",
   "metadata": {},
   "source": [
    "#### 3. Training"
   ]
  },
  {
   "cell_type": "code",
   "execution_count": 54,
   "metadata": {},
   "outputs": [
    {
     "name": "stdout",
     "output_type": "stream",
     "text": [
      "Epoch : 0 | Training Loss : 0.1934860497713089 | Testing Loss : 0.44704076647758484\n",
      "Epoch : 20 | Training Loss : 0.099742591381073 | Testing Loss : 0.2774539589881897\n",
      "Epoch : 40 | Training Loss : 0.08286076784133911 | Testing Loss : 0.20952367782592773\n",
      "Epoch : 60 | Training Loss : 0.07524622976779938 | Testing Loss : 0.17951278388500214\n",
      "Epoch : 80 | Training Loss : 0.06834527105093002 | Testing Loss : 0.16077637672424316\n",
      "Epoch : 100 | Training Loss : 0.06149417161941528 | Testing Loss : 0.1444476842880249\n",
      "Epoch : 120 | Training Loss : 0.05464210733771324 | Testing Loss : 0.12846294045448303\n",
      "Epoch : 140 | Training Loss : 0.0477910041809082 | Testing Loss : 0.11213427037000656\n",
      "Epoch : 160 | Training Loss : 0.0409398227930069 | Testing Loss : 0.09580682963132858\n"
     ]
    },
    {
     "name": "stdout",
     "output_type": "stream",
     "text": [
      "Epoch : 180 | Training Loss : 0.03408766910433769 | Testing Loss : 0.07982330769300461\n",
      "Epoch : 200 | Training Loss : 0.027236467227339745 | Testing Loss : 0.06349574029445648\n",
      "Epoch : 220 | Training Loss : 0.020384782925248146 | Testing Loss : 0.04734015464782715\n",
      "Epoch : 240 | Training Loss : 0.01353358756750822 | Testing Loss : 0.03101258911192417\n",
      "Epoch : 260 | Training Loss : 0.006681409664452076 | Testing Loss : 0.015028977766633034\n",
      "Epoch : 280 | Training Loss : 0.003223964711651206 | Testing Loss : 0.006560087203979492\n"
     ]
    },
    {
     "data": {
      "text/plain": [
       "OrderedDict([('Linear_Layer.weight', tensor([[0.2925]], device='cuda:0')),\n",
       "             ('Linear_Layer.bias', tensor([0.8997], device='cuda:0'))])"
      ]
     },
     "execution_count": 54,
     "metadata": {},
     "output_type": "execute_result"
    }
   ],
   "source": [
    "torch.manual_seed(42)\n",
    "\n",
    "epochs = 300\n",
    "\n",
    "model_lr.to(device)\n",
    "\n",
    "X_train = X_train.to(device)\n",
    "X_test = X_test.to(device)\n",
    "y_train = y_train.to(device)\n",
    "y_test = y_test.to(device)\n",
    "\n",
    "\n",
    "for epoch in range(epochs):\n",
    "\n",
    "    #training\n",
    "    model_lr.train()\n",
    "\n",
    "    y_pred = model_lr(X_train)\n",
    "\n",
    "    loss = loss_fn(y_pred,y_train)\n",
    "\n",
    "    optimizer.zero_grad()\n",
    "\n",
    "    loss.backward()\n",
    "\n",
    "    optimizer.step()\n",
    "\n",
    "    #testing\n",
    "    if epoch % 20 == 0:\n",
    "        model_lr.eval()\n",
    "\n",
    "        with torch.inference_mode():\n",
    "            y_pred_test = model_lr(X_test)\n",
    "\n",
    "            test_loss = loss_fn(y_pred_test, y_test)\n",
    "\n",
    "        # To understand whats happening\n",
    "        print(f\"Epoch : {epoch} | Training Loss : {loss} | Testing Loss : {test_loss}\")\n",
    "\n",
    "model_lr.state_dict()\n",
    "    "
   ]
  },
  {
   "cell_type": "markdown",
   "metadata": {},
   "source": [
    "#### 4. Inference"
   ]
  },
  {
   "cell_type": "code",
   "execution_count": 55,
   "metadata": {},
   "outputs": [
    {
     "data": {
      "image/png": "[encoded data removed]",
      "text/plain": [
       "<Figure size 1000x700 with 1 Axes>"
      ]
     },
     "metadata": {},
     "output_type": "display_data"
    }
   ],
   "source": [
    "model_lr.eval()\n",
    "with torch.inference_mode():\n",
    "    y_preds = model_lr(X_test)\n",
    "\n",
    "plot_predictions(predictions=y_preds.cpu())"
   ]
  },
  {
   "cell_type": "markdown",
   "metadata": {},
   "source": [
    "#### 5. Saving and loading the model"
   ]
  },
  {
   "cell_type": "code",
   "execution_count": 56,
   "metadata": {},
   "outputs": [
    {
     "name": "stdout",
     "output_type": "stream",
     "text": [
      "Saving model to models\\01_pytorch_workflow_model_2.pth\n"
     ]
    }
   ],
   "source": [
    "from pathlib import Path\n",
    "\n",
    "MODEL_PATH =Path(\"models\")\n",
    "MODEL_PATH.mkdir(exist_ok=True, parents=True)\n",
    "\n",
    "MODEL_NAME = \"01_pytorch_workflow_model_2.pth\"\n",
    "MODEL_SAVE_PATH = MODEL_PATH/MODEL_NAME\n",
    "\n",
    "print(f\"Saving model to {MODEL_SAVE_PATH}\")\n",
    "torch.save(model_lr.state_dict(),\n",
    "           f=MODEL_SAVE_PATH)"
   ]
  },
  {
   "cell_type": "code",
   "execution_count": 57,
   "metadata": {},
   "outputs": [
    {
     "name": "stderr",
     "output_type": "stream",
     "text": [
      "C:\\Users\\Ashutosh Choudhari\\AppData\\Local\\Temp\\ipykernel_63392\\391888567.py:3: FutureWarning: You are using `torch.load` with `weights_only=False` (the current default value), which uses the default pickle module implicitly. It is possible to construct malicious pickle data which will execute arbitrary code during unpickling (See https://github.com/pytorch/pytorch/blob/main/SECURITY.md#untrusted-models for more details). In a future release, the default value for `weights_only` will be flipped to `True`. This limits the functions that could be executed during unpickling. Arbitrary objects will no longer be allowed to be loaded via this mode unless they are explicitly allowlisted by the user via `torch.serialization.add_safe_globals`. We recommend you start setting `weights_only=True` for any use case where you don't have full control of the loaded file. Please open an issue on GitHub for any issues related to this experimental feature.\n",
      "  new_model.load_state_dict(torch.load(MODEL_SAVE_PATH))\n"
     ]
    },
    {
     "data": {
      "text/plain": [
       "<All keys matched successfully>"
      ]
     },
     "execution_count": 57,
     "metadata": {},
     "output_type": "execute_result"
    }
   ],
   "source": [
    "new_model = Linear_regression()\n",
    "\n",
    "new_model.load_state_dict(torch.load(MODEL_SAVE_PATH))"
   ]
  },
  {
   "cell_type": "code",
   "execution_count": 58,
   "metadata": {},
   "outputs": [
    {
     "data": {
      "image/png": "[encoded data removed]",
      "text/plain": [
       "<Figure size 1000x700 with 1 Axes>"
      ]
     },
     "metadata": {},
     "output_type": "display_data"
    }
   ],
   "source": [
    "model_lr.eval()\n",
    "with torch.inference_mode():\n",
    "    y_preds_new = model_lr(X_test)\n",
    "\n",
    "plot_predictions(predictions=y_preds.cpu())"
   ]
  },
  {
   "cell_type": "code",
   "execution_count": 59,
   "metadata": {},
   "outputs": [
    {
     "data": {
      "text/plain": [
       "tensor([[True],\n",
       "        [True],\n",
       "        [True],\n",
       "        [True],\n",
       "        [True],\n",
       "        [True],\n",
       "        [True],\n",
       "        [True],\n",
       "        [True],\n",
       "        [True],\n",
       "        [True],\n",
       "        [True],\n",
       "        [True],\n",
       "        [True],\n",
       "        [True],\n",
       "        [True],\n",
       "        [True],\n",
       "        [True],\n",
       "        [True],\n",
       "        [True]], device='cuda:0')"
      ]
     },
     "execution_count": 59,
     "metadata": {},
     "output_type": "execute_result"
    }
   ],
   "source": [
    "y_preds_new == y_preds"
   ]
  }
 ],
 "metadata": {
  "kernelspec": {
   "display_name": "ARC",
   "language": "python",
   "name": "python3"
  },
  "language_info": {
   "codemirror_mode": {
    "name": "ipython",
    "version": 3
   },
   "file_extension": ".py",
   "mimetype": "text/x-python",
   "name": "python",
   "nbconvert_exporter": "python",
   "pygments_lexer": "ipython3",
   "version": "3.10.16"
  }
 },
 "nbformat": 4,
 "nbformat_minor": 2
}
